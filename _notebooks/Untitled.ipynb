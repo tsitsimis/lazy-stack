{
 "cells": [
  {
   "cell_type": "code",
   "execution_count": 5,
   "id": "distinct-teens",
   "metadata": {},
   "outputs": [
    {
     "name": "stdout",
     "output_type": "stream",
     "text": [
      "/c/Users/tsitsimis/Documents/projects/safage-stack/_notebooks\r\n"
     ]
    }
   ],
   "source": [
    "!pwd"
   ]
  },
  {
   "cell_type": "code",
   "execution_count": 6,
   "id": "medical-basic",
   "metadata": {},
   "outputs": [
    {
     "name": "stdout",
     "output_type": "stream",
     "text": [
      "_notebooks  examples  requirements.dev.txt  requirements.txt  safage\r\n"
     ]
    }
   ],
   "source": [
    "!ls ../"
   ]
  },
  {
   "cell_type": "code",
   "execution_count": 8,
   "id": "blank-flashing",
   "metadata": {},
   "outputs": [],
   "source": [
    "import os\n",
    "import json\n",
    "from typing import List\n",
    "from collections import defaultdict\n",
    "\n",
    "from sqlalchemy import create_engine\n",
    "import pandas as pd"
   ]
  },
  {
   "cell_type": "code",
   "execution_count": 10,
   "id": "german-fraction",
   "metadata": {},
   "outputs": [
    {
     "data": {
      "text/plain": [
       "['.ge_store_backend_id', 'passenger']"
      ]
     },
     "execution_count": 10,
     "metadata": {},
     "output_type": "execute_result"
    }
   ],
   "source": [
    "os.listdir(\"../examples/create-sql-tables/great_expectations/expectations\")"
   ]
  },
  {
   "cell_type": "code",
   "execution_count": 12,
   "id": "unable-mambo",
   "metadata": {},
   "outputs": [
    {
     "data": {
      "text/plain": [
       "[PosixPath('../examples/create-sql-tables/great_expectations/expectations/.ge_store_backend_id'),\n",
       " PosixPath('../examples/create-sql-tables/great_expectations/expectations/passenger')]"
      ]
     },
     "execution_count": 12,
     "metadata": {},
     "output_type": "execute_result"
    }
   ],
   "source": [
    "import pathlib\n",
    "\n",
    "list(pathlib.Path(\"../examples/create-sql-tables/great_expectations/expectations\").iterdir())"
   ]
  },
  {
   "cell_type": "code",
   "execution_count": 7,
   "id": "indoor-diploma",
   "metadata": {},
   "outputs": [
    {
     "data": {
      "text/plain": [
       "{'data_asset_type': None,\n",
       " 'expectation_suite_name': 'passenger.basic',\n",
       " 'expectations': [{'expectation_type': 'expect_column_values_to_be_of_type',\n",
       "   'kwargs': {'column': 'passenger_id', 'type_': 'int'}},\n",
       "  {'expectation_type': 'expect_column_values_to_be_unique',\n",
       "   'kwargs': {'column': 'passenger_id'}},\n",
       "  {'expectation_type': 'expect_column_values_to_be_of_type',\n",
       "   'kwargs': {'column': 'survived', 'type_': 'int'}},\n",
       "  {'expectation_type': 'expect_column_values_to_be_in_set',\n",
       "   'kwargs': {'column': 'survived', 'value_set': [0, 1]}},\n",
       "  {'expectation_type': 'expect_column_values_to_be_of_type',\n",
       "   'kwargs': {'column': 'pclass', 'type_': 'int'}},\n",
       "  {'expectation_type': 'expect_column_values_to_be_in_set',\n",
       "   'kwargs': {'column': 'pclass', 'value_set': [1, 2, 3]}},\n",
       "  {'expectation_type': 'expect_column_values_to_be_of_type',\n",
       "   'kwargs': {'column': 'name', 'type_': 'str'}},\n",
       "  {'expectation_type': 'expect_column_value_lengths_to_be_between',\n",
       "   'kwargs': {'column': 'name', 'max_value': 100}},\n",
       "  {'expectation_type': 'expect_column_values_to_be_of_type',\n",
       "   'kwargs': {'column': 'sex', 'type_': 'str'}},\n",
       "  {'expectation_type': 'expect_column_values_to_be_in_set',\n",
       "   'kwargs': {'column': 'sex', 'value_set': ['male', 'female']}},\n",
       "  {'expectation_type': 'expect_column_value_lengths_to_be_between',\n",
       "   'kwargs': {'column': 'sex', 'max_value': 10}},\n",
       "  {'expectation_type': 'expect_column_values_to_be_of_type',\n",
       "   'kwargs': {'column': 'age', 'type_': 'int'}},\n",
       "  {'expectation_type': 'expect_column_values_to_be_between',\n",
       "   'kwargs': {'column': 'age', 'min_value': 1}}],\n",
       " 'meta': {'great_expectations_version': '0.13.7'}}"
      ]
     },
     "execution_count": 7,
     "metadata": {},
     "output_type": "execute_result"
    }
   ],
   "source": [
    "suite = json.load(open(\"../examples/create-sql-tables/great_expectations/expectations/passenger/basic.json\", \"r\"))\n",
    "suite"
   ]
  },
  {
   "cell_type": "code",
   "execution_count": 11,
   "id": "laughing-guatemala",
   "metadata": {},
   "outputs": [],
   "source": [
    "engine = create_engine(\"sqlite://\")"
   ]
  },
  {
   "cell_type": "code",
   "execution_count": 12,
   "id": "useful-paint",
   "metadata": {},
   "outputs": [],
   "source": [
    "from sqlalchemy import Table, Column, Integer, String, Float, ForeignKey"
   ]
  },
  {
   "cell_type": "code",
   "execution_count": 13,
   "id": "welsh-lewis",
   "metadata": {},
   "outputs": [],
   "source": [
    "from sqlalchemy import MetaData\n",
    "\n",
    "metadata = MetaData()"
   ]
  },
  {
   "cell_type": "markdown",
   "id": "joint-greek",
   "metadata": {},
   "source": [
    "### Read pandas dataframe"
   ]
  },
  {
   "cell_type": "code",
   "execution_count": 22,
   "id": "physical-engineer",
   "metadata": {},
   "outputs": [],
   "source": [
    "passengers = pd.read_csv(\"../../../data/passengers.csv\")"
   ]
  },
  {
   "cell_type": "code",
   "execution_count": 23,
   "id": "affecting-prevention",
   "metadata": {},
   "outputs": [
    {
     "data": {
      "text/html": [
       "<div>\n",
       "<style scoped>\n",
       "    .dataframe tbody tr th:only-of-type {\n",
       "        vertical-align: middle;\n",
       "    }\n",
       "\n",
       "    .dataframe tbody tr th {\n",
       "        vertical-align: top;\n",
       "    }\n",
       "\n",
       "    .dataframe thead th {\n",
       "        text-align: right;\n",
       "    }\n",
       "</style>\n",
       "<table border=\"1\" class=\"dataframe\">\n",
       "  <thead>\n",
       "    <tr style=\"text-align: right;\">\n",
       "      <th></th>\n",
       "      <th>passenger_id</th>\n",
       "      <th>survived</th>\n",
       "      <th>pclass</th>\n",
       "      <th>name</th>\n",
       "      <th>sex</th>\n",
       "      <th>age</th>\n",
       "      <th>sibsp</th>\n",
       "      <th>parch</th>\n",
       "      <th>ticket</th>\n",
       "      <th>fare</th>\n",
       "      <th>cabin</th>\n",
       "      <th>embarked</th>\n",
       "    </tr>\n",
       "  </thead>\n",
       "  <tbody>\n",
       "    <tr>\n",
       "      <th>0</th>\n",
       "      <td>1</td>\n",
       "      <td>0</td>\n",
       "      <td>3</td>\n",
       "      <td>Braund, Mr. Owen Harris</td>\n",
       "      <td>male</td>\n",
       "      <td>22.0</td>\n",
       "      <td>1</td>\n",
       "      <td>0</td>\n",
       "      <td>A/5 21171</td>\n",
       "      <td>7.2500</td>\n",
       "      <td>NaN</td>\n",
       "      <td>S</td>\n",
       "    </tr>\n",
       "    <tr>\n",
       "      <th>1</th>\n",
       "      <td>2</td>\n",
       "      <td>1</td>\n",
       "      <td>1</td>\n",
       "      <td>Cumings, Mrs. John Bradley (Florence Briggs Th...</td>\n",
       "      <td>female</td>\n",
       "      <td>38.0</td>\n",
       "      <td>1</td>\n",
       "      <td>0</td>\n",
       "      <td>PC 17599</td>\n",
       "      <td>71.2833</td>\n",
       "      <td>C85</td>\n",
       "      <td>C</td>\n",
       "    </tr>\n",
       "    <tr>\n",
       "      <th>2</th>\n",
       "      <td>3</td>\n",
       "      <td>1</td>\n",
       "      <td>3</td>\n",
       "      <td>Heikkinen, Miss. Laina</td>\n",
       "      <td>female</td>\n",
       "      <td>26.0</td>\n",
       "      <td>0</td>\n",
       "      <td>0</td>\n",
       "      <td>STON/O2. 3101282</td>\n",
       "      <td>7.9250</td>\n",
       "      <td>NaN</td>\n",
       "      <td>S</td>\n",
       "    </tr>\n",
       "    <tr>\n",
       "      <th>3</th>\n",
       "      <td>4</td>\n",
       "      <td>1</td>\n",
       "      <td>1</td>\n",
       "      <td>Futrelle, Mrs. Jacques Heath (Lily May Peel)</td>\n",
       "      <td>female</td>\n",
       "      <td>35.0</td>\n",
       "      <td>1</td>\n",
       "      <td>0</td>\n",
       "      <td>113803</td>\n",
       "      <td>53.1000</td>\n",
       "      <td>C123</td>\n",
       "      <td>S</td>\n",
       "    </tr>\n",
       "    <tr>\n",
       "      <th>4</th>\n",
       "      <td>5</td>\n",
       "      <td>0</td>\n",
       "      <td>3</td>\n",
       "      <td>Allen, Mr. William Henry</td>\n",
       "      <td>male</td>\n",
       "      <td>35.0</td>\n",
       "      <td>0</td>\n",
       "      <td>0</td>\n",
       "      <td>373450</td>\n",
       "      <td>8.0500</td>\n",
       "      <td>NaN</td>\n",
       "      <td>S</td>\n",
       "    </tr>\n",
       "  </tbody>\n",
       "</table>\n",
       "</div>"
      ],
      "text/plain": [
       "   passenger_id  survived  pclass  \\\n",
       "0             1         0       3   \n",
       "1             2         1       1   \n",
       "2             3         1       3   \n",
       "3             4         1       1   \n",
       "4             5         0       3   \n",
       "\n",
       "                                                name     sex   age  sibsp  \\\n",
       "0                            Braund, Mr. Owen Harris    male  22.0      1   \n",
       "1  Cumings, Mrs. John Bradley (Florence Briggs Th...  female  38.0      1   \n",
       "2                             Heikkinen, Miss. Laina  female  26.0      0   \n",
       "3       Futrelle, Mrs. Jacques Heath (Lily May Peel)  female  35.0      1   \n",
       "4                           Allen, Mr. William Henry    male  35.0      0   \n",
       "\n",
       "   parch            ticket     fare cabin embarked  \n",
       "0      0         A/5 21171   7.2500   NaN        S  \n",
       "1      0          PC 17599  71.2833   C85        C  \n",
       "2      0  STON/O2. 3101282   7.9250   NaN        S  \n",
       "3      0            113803  53.1000  C123        S  \n",
       "4      0            373450   8.0500   NaN        S  "
      ]
     },
     "execution_count": 23,
     "metadata": {},
     "output_type": "execute_result"
    }
   ],
   "source": [
    "passengers.head()"
   ]
  },
  {
   "cell_type": "markdown",
   "id": "stupid-generic",
   "metadata": {},
   "source": [
    "### Create table based on GE suite"
   ]
  },
  {
   "cell_type": "code",
   "execution_count": 24,
   "id": "conceptual-plastic",
   "metadata": {},
   "outputs": [
    {
     "data": {
      "text/plain": [
       "'passenger'"
      ]
     },
     "execution_count": 24,
     "metadata": {},
     "output_type": "execute_result"
    }
   ],
   "source": [
    "table_name = suite[\"expectation_suite_name\"].split(\".\")[0]\n",
    "table_name"
   ]
  },
  {
   "cell_type": "code",
   "execution_count": 84,
   "id": "fixed-reference",
   "metadata": {},
   "outputs": [],
   "source": [
    "def get_column_names(expectations: dict) -> List[str]:\n",
    "    column_expectations = filter(lambda x: x[\"expectation_type\"].startswith(\"expect_column\"), expectations)\n",
    "    column_names = map(lambda x: x[\"kwargs\"][\"column\"], column_expectations)\n",
    "    return list(set(column_names))\n",
    "\n",
    "\n",
    "def get_primary_key_columns(column_names: List[str]) -> List[str]:\n",
    "    pk_columns = filter(lambda x: x.endswith(\"_id\"), column_names)\n",
    "    return list(pk_columns)\n",
    "\n",
    "\n",
    "def ge_to_sqla_types(ge_type: str, **kwargs):\n",
    "    if ge_type == \"str\":\n",
    "        return String(kwargs[\"length\"])\n",
    "    if ge_type == \"int\":\n",
    "        return Integer\n",
    "    if ge_type == \"float\":\n",
    "        return Float\n",
    "\n",
    "\n",
    "def get_column_definition(expectations: dict) -> List:\n",
    "    \"\"\"\n",
    "    Builds a dictionary containing the column definition for SQLAlchemy. The dict has the form\n",
    "    {\n",
    "        \"column_name\": {\"type\": <sql_type>, \"primary_key\": <bool>}\n",
    "    }\n",
    "    \"\"\"\n",
    "    \n",
    "    column_names = get_column_names(expectations)\n",
    "    \n",
    "    column_definitions = defaultdict(dict)\n",
    "    \n",
    "    for column_name in column_names:\n",
    "        # type\n",
    "        all_columns_type_expectations = filter(lambda x: x[\"expectation_type\"] == \"expect_column_values_to_be_of_type\", expectations)\n",
    "        column_type_expectations = filter(lambda x: x[\"kwargs\"][\"column\"] == column_name, all_columns_type_expectations)\n",
    "        ge_type = list(column_type_expectations)[0][\"kwargs\"][\"type_\"]\n",
    "        \n",
    "        if ge_type == \"str\":\n",
    "            all_columns_length_expectations = filter(lambda x: x[\"expectation_type\"] == \"expect_column_value_lengths_to_be_between\", expectations)\n",
    "            column_length_expectations = filter(lambda x: x[\"kwargs\"][\"column\"] == column_name, all_columns_length_expectations)\n",
    "            length = list(column_length_expectations)[0][\"kwargs\"][\"max_value\"]\n",
    "            \n",
    "            column_definitions[column_name][\"type\"] = String(length)\n",
    "        else:\n",
    "            column_definitions[column_name][\"type\"] = ge_to_sqla_types(ge_type)\n",
    "            \n",
    "        if column_name.endswith(\"_id\"):\n",
    "            column_definitions[column_name][\"primary_key\"] = True\n",
    "        \n",
    "    return column_definitions"
   ]
  },
  {
   "cell_type": "code",
   "execution_count": 85,
   "id": "decent-therapy",
   "metadata": {},
   "outputs": [
    {
     "data": {
      "text/plain": [
       "defaultdict(dict,\n",
       "            {'sex': {'type': String(length=10)},\n",
       "             'name': {'type': String(length=100)},\n",
       "             'pclass': {'type': sqlalchemy.sql.sqltypes.Integer},\n",
       "             'age': {'type': sqlalchemy.sql.sqltypes.Integer},\n",
       "             'passenger_id': {'type': sqlalchemy.sql.sqltypes.Integer,\n",
       "              'primary_key': True},\n",
       "             'survived': {'type': sqlalchemy.sql.sqltypes.Integer}})"
      ]
     },
     "execution_count": 85,
     "metadata": {},
     "output_type": "execute_result"
    }
   ],
   "source": [
    "column_definition = get_column_definition(suite[\"expectations\"])\n",
    "column_definition"
   ]
  },
  {
   "cell_type": "code",
   "execution_count": null,
   "id": "adjusted-distributor",
   "metadata": {},
   "outputs": [],
   "source": []
  },
  {
   "cell_type": "code",
   "execution_count": 86,
   "id": "anonymous-ozone",
   "metadata": {},
   "outputs": [
    {
     "data": {
      "text/plain": [
       "Table('passenger', MetaData(bind=None), Column('sex', String(length=10), table=<passenger>), Column('name', String(length=100), table=<passenger>), Column('pclass', Integer(), table=<passenger>), Column('age', Integer(), table=<passenger>), Column('passenger_id', Integer(), table=<passenger>, primary_key=True, nullable=False), Column('survived', Integer(), table=<passenger>), schema=None)"
      ]
     },
     "execution_count": 86,
     "metadata": {},
     "output_type": "execute_result"
    }
   ],
   "source": [
    "Table(\n",
    "    table_name,\n",
    "    metadata,\n",
    "\n",
    "    *[\n",
    "        Column(column_name, definition[\"type\"], primary_key=(\"primary_key\" in definition.keys())) \\\n",
    "        for column_name, definition in column_definition.items()\n",
    "    ],\n",
    "    extend_existing=True\n",
    "    \n",
    ")"
   ]
  },
  {
   "cell_type": "code",
   "execution_count": null,
   "id": "empirical-financing",
   "metadata": {},
   "outputs": [],
   "source": []
  },
  {
   "cell_type": "code",
   "execution_count": 92,
   "id": "increasing-heading",
   "metadata": {},
   "outputs": [
    {
     "data": {
      "text/plain": [
       "dict_keys(['passenger'])"
      ]
     },
     "execution_count": 92,
     "metadata": {},
     "output_type": "execute_result"
    }
   ],
   "source": [
    "metadata.tables.keys()"
   ]
  },
  {
   "cell_type": "code",
   "execution_count": null,
   "id": "mathematical-argentina",
   "metadata": {},
   "outputs": [],
   "source": []
  }
 ],
 "metadata": {
  "kernelspec": {
   "display_name": "Python 3",
   "language": "python",
   "name": "python3"
  },
  "language_info": {
   "codemirror_mode": {
    "name": "ipython",
    "version": 3
   },
   "file_extension": ".py",
   "mimetype": "text/x-python",
   "name": "python",
   "nbconvert_exporter": "python",
   "pygments_lexer": "ipython3",
   "version": "3.8.5"
  }
 },
 "nbformat": 4,
 "nbformat_minor": 5
}

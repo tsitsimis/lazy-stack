{
 "cells": [
  {
   "cell_type": "code",
   "execution_count": 1,
   "id": "incorporate-infrastructure",
   "metadata": {},
   "outputs": [],
   "source": [
    "%load_ext autoreload\n",
    "%autoreload 2"
   ]
  },
  {
   "cell_type": "code",
   "execution_count": 3,
   "id": "italian-official",
   "metadata": {},
   "outputs": [],
   "source": [
    "import sys\n",
    "sys.path.append(\"../\")"
   ]
  },
  {
   "cell_type": "code",
   "execution_count": 200,
   "id": "moved-canon",
   "metadata": {},
   "outputs": [],
   "source": [
    "import json\n",
    "\n",
    "import pathlib\n",
    "from sqlalchemy import create_engine\n",
    "from sqlalchemy.ext.declarative import declarative_base\n",
    "import pandas as pd\n",
    "\n",
    "from safage.core import SafageBuilder, ge_suite_to_sqla_table"
   ]
  },
  {
   "cell_type": "code",
   "execution_count": 282,
   "id": "known-miniature",
   "metadata": {},
   "outputs": [],
   "source": [
    "builder = SafageBuilder(ge_dir=\"../examples/create-sql-tables/great_expectations/expectations\")"
   ]
  },
  {
   "cell_type": "code",
   "execution_count": 283,
   "id": "viral-hostel",
   "metadata": {},
   "outputs": [
    {
     "data": {
      "text/plain": [
       "['passenger']"
      ]
     },
     "execution_count": 283,
     "metadata": {},
     "output_type": "execute_result"
    }
   ],
   "source": [
    "builder.suite_names"
   ]
  },
  {
   "cell_type": "code",
   "execution_count": 284,
   "id": "alien-oriental",
   "metadata": {},
   "outputs": [
    {
     "data": {
      "text/plain": [
       "['passenger']"
      ]
     },
     "execution_count": 284,
     "metadata": {},
     "output_type": "execute_result"
    }
   ],
   "source": [
    "builder.create_sqla_models()"
   ]
  },
  {
   "cell_type": "code",
   "execution_count": 285,
   "id": "continuing-arbor",
   "metadata": {},
   "outputs": [],
   "source": [
    "engine = create_engine(\"sqlite:///../examples/create-sql-tables/db/sqlite.db\")\n",
    "\n",
    "builder.metadata.drop_all(engine, checkfirst=False)\n",
    "builder.metadata.create_all(engine, checkfirst=False)"
   ]
  },
  {
   "cell_type": "code",
   "execution_count": 300,
   "id": "excessive-springfield",
   "metadata": {},
   "outputs": [],
   "source": [
    "engine = create_engine(\"sqlite:///../examples/create_sql_tables/db/sqlite.db\")"
   ]
  },
  {
   "cell_type": "code",
   "execution_count": 301,
   "id": "social-clock",
   "metadata": {},
   "outputs": [
    {
     "data": {
      "text/html": [
       "<div>\n",
       "<style scoped>\n",
       "    .dataframe tbody tr th:only-of-type {\n",
       "        vertical-align: middle;\n",
       "    }\n",
       "\n",
       "    .dataframe tbody tr th {\n",
       "        vertical-align: top;\n",
       "    }\n",
       "\n",
       "    .dataframe thead th {\n",
       "        text-align: right;\n",
       "    }\n",
       "</style>\n",
       "<table border=\"1\" class=\"dataframe\">\n",
       "  <thead>\n",
       "    <tr style=\"text-align: right;\">\n",
       "      <th></th>\n",
       "      <th>age</th>\n",
       "      <th>pclass</th>\n",
       "      <th>sex</th>\n",
       "      <th>survived</th>\n",
       "      <th>passenger_id</th>\n",
       "      <th>name</th>\n",
       "    </tr>\n",
       "  </thead>\n",
       "  <tbody>\n",
       "    <tr>\n",
       "      <th>0</th>\n",
       "      <td>26</td>\n",
       "      <td>0</td>\n",
       "      <td>male</td>\n",
       "      <td>0</td>\n",
       "      <td>1</td>\n",
       "      <td>gamias</td>\n",
       "    </tr>\n",
       "  </tbody>\n",
       "</table>\n",
       "</div>"
      ],
      "text/plain": [
       "   age  pclass   sex  survived  passenger_id    name\n",
       "0   26       0  male         0             1  gamias"
      ]
     },
     "execution_count": 301,
     "metadata": {},
     "output_type": "execute_result"
    }
   ],
   "source": [
    "pd.read_sql(\"SELECT * FROM passenger\", con=engine)"
   ]
  },
  {
   "cell_type": "code",
   "execution_count": 287,
   "id": "moral-essex",
   "metadata": {},
   "outputs": [
    {
     "data": {
      "text/plain": [
       "{'passenger': Table('passenger', MetaData(bind=None), Column('name', String(length=100), table=<passenger>), Column('age', Integer(), table=<passenger>), Column('pclass', Integer(), table=<passenger>), Column('sex', String(length=10), table=<passenger>), Column('passenger_id', Integer(), table=<passenger>, primary_key=True), Column('survived', Integer(), table=<passenger>), schema=None)}"
      ]
     },
     "execution_count": 287,
     "metadata": {},
     "output_type": "execute_result"
    }
   ],
   "source": [
    "builder.sqla_models"
   ]
  },
  {
   "cell_type": "code",
   "execution_count": 288,
   "id": "cathedral-burton",
   "metadata": {},
   "outputs": [],
   "source": [
    "builder.create_pydantic_models()"
   ]
  },
  {
   "cell_type": "code",
   "execution_count": 289,
   "id": "oriental-defensive",
   "metadata": {},
   "outputs": [
    {
     "data": {
      "text/plain": [
       "{'passenger': pydantic.main.Passenger}"
      ]
     },
     "execution_count": 289,
     "metadata": {},
     "output_type": "execute_result"
    }
   ],
   "source": [
    "builder.pydantic_models"
   ]
  },
  {
   "cell_type": "code",
   "execution_count": 290,
   "id": "metallic-monroe",
   "metadata": {},
   "outputs": [
    {
     "data": {
      "text/plain": [
       "Passenger(name=None, age=None, pclass=None, sex=None, passenger_id=None, survived=None)"
      ]
     },
     "execution_count": 290,
     "metadata": {},
     "output_type": "execute_result"
    }
   ],
   "source": [
    "builder.pydantic_models[\"passenger\"]()"
   ]
  },
  {
   "cell_type": "code",
   "execution_count": 291,
   "id": "wicked-ambassador",
   "metadata": {},
   "outputs": [],
   "source": [
    "fastapi_app = builder.create_fastapi_routers()"
   ]
  },
  {
   "cell_type": "code",
   "execution_count": null,
   "id": "statutory-timeline",
   "metadata": {},
   "outputs": [],
   "source": []
  },
  {
   "cell_type": "code",
   "execution_count": 296,
   "id": "stunning-participant",
   "metadata": {},
   "outputs": [
    {
     "name": "stdout",
     "output_type": "stream",
     "text": [
      "\u001b[32mINFO\u001b[0m:     Uvicorn running on \u001b[1mhttp://0.0.0.0:8000\u001b[0m (Press CTRL+C to quit)\n",
      "\u001b[32mINFO\u001b[0m:     Started reloader process [\u001b[36m\u001b[1m15510\u001b[0m] using \u001b[36m\u001b[1mstatreload\u001b[0m\n",
      "Process SpawnProcess-1:\n",
      "Traceback (most recent call last):\n",
      "  File \"/home/tsitsimis/.pyenv/versions/3.8.5/lib/python3.8/multiprocessing/process.py\", line 315, in _bootstrap\n",
      "    self.run()\n",
      "  File \"/home/tsitsimis/.pyenv/versions/3.8.5/lib/python3.8/multiprocessing/process.py\", line 108, in run\n",
      "    self._target(*self._args, **self._kwargs)\n",
      "  File \"/home/tsitsimis/.pyenv/versions/3.8.5/envs/safage/lib/python3.8/site-packages/uvicorn/subprocess.py\", line 61, in subprocess_started\n",
      "    target(sockets=sockets)\n",
      "  File \"/home/tsitsimis/.pyenv/versions/3.8.5/envs/safage/lib/python3.8/site-packages/uvicorn/server.py\", line 48, in run\n",
      "    loop.run_until_complete(self.serve(sockets=sockets))\n",
      "  File \"/home/tsitsimis/.pyenv/versions/3.8.5/lib/python3.8/asyncio/base_events.py\", line 616, in run_until_complete\n",
      "    return future.result()\n",
      "  File \"/home/tsitsimis/.pyenv/versions/3.8.5/envs/safage/lib/python3.8/site-packages/uvicorn/server.py\", line 55, in serve\n",
      "    config.load()\n",
      "  File \"/home/tsitsimis/.pyenv/versions/3.8.5/envs/safage/lib/python3.8/site-packages/uvicorn/config.py\", line 308, in load\n",
      "    self.loaded_app = import_from_string(self.app)\n",
      "  File \"/home/tsitsimis/.pyenv/versions/3.8.5/envs/safage/lib/python3.8/site-packages/uvicorn/importer.py\", line 20, in import_from_string\n",
      "    module = importlib.import_module(module_str)\n",
      "  File \"/home/tsitsimis/.pyenv/versions/3.8.5/lib/python3.8/importlib/__init__.py\", line 122, in import_module\n",
      "    raise TypeError(msg.format(name))\n",
      "TypeError: the 'package' argument is required to perform a relative import for '.'\n",
      "^C\n",
      "\u001b[32mINFO\u001b[0m:     Stopping reloader process [\u001b[36m\u001b[1m15510\u001b[0m]\n"
     ]
    }
   ],
   "source": [
    "!uvicorn .:fastapi_app --reload --host 0.0.0.0 --port 8000"
   ]
  },
  {
   "cell_type": "code",
   "execution_count": null,
   "id": "comfortable-student",
   "metadata": {},
   "outputs": [],
   "source": []
  },
  {
   "cell_type": "code",
   "execution_count": null,
   "id": "naughty-outdoors",
   "metadata": {},
   "outputs": [],
   "source": []
  }
 ],
 "metadata": {
  "kernelspec": {
   "display_name": "Python 3",
   "language": "python",
   "name": "python3"
  },
  "language_info": {
   "codemirror_mode": {
    "name": "ipython",
    "version": 3
   },
   "file_extension": ".py",
   "mimetype": "text/x-python",
   "name": "python",
   "nbconvert_exporter": "python",
   "pygments_lexer": "ipython3",
   "version": "3.8.5"
  }
 },
 "nbformat": 4,
 "nbformat_minor": 5
}
